{
 "cells": [
  {
   "cell_type": "code",
   "execution_count": 1,
   "metadata": {},
   "outputs": [],
   "source": [
    "import os\n",
    "import pickle\n",
    "import shutil"
   ]
  },
  {
   "cell_type": "code",
   "execution_count": 2,
   "metadata": {},
   "outputs": [],
   "source": [
    "date = '20201217'"
   ]
  },
  {
   "cell_type": "markdown",
   "metadata": {},
   "source": [
    "# test dir"
   ]
  },
  {
   "cell_type": "code",
   "execution_count": 9,
   "metadata": {},
   "outputs": [],
   "source": [
    "try:\n",
    "    os.makedirs('../videos/'+date+'/split_videos')\n",
    "except FileExistsError:\n",
    "    pass\n",
    "try:\n",
    "    os.makedirs('../dataset/test/'+date+'/images')\n",
    "except FileExistsError:\n",
    "    pass\n",
    "try:\n",
    "    os.makedirs('../dataset/test/'+date+'/logs')\n",
    "except FileExistsError:\n",
    "    pass\n",
    "try:\n",
    "    os.makedirs('../dataset/test/'+date+'/labels/on')\n",
    "except FileExistsError:\n",
    "    pass\n",
    "try:\n",
    "    os.makedirs('../dataset/test/'+date+'/labels/off')\n",
    "except FileExistsError:\n",
    "    pass\n",
    "try:\n",
    "    os.makedirs('../dataset/test/'+date+'/results')\n",
    "except FileExistsError:\n",
    "    pass\n",
    "try:\n",
    "    os.makedirs('../makevideo/'+date+'/images')\n",
    "except FileExistsError:\n",
    "    pass\n",
    "try:\n",
    "    path = '../dataset/test/'+date+'/results/true.pickle'\n",
    "    with open(path, mode='wb') as f:\n",
    "        pickle.dump('', f)\n",
    "except FileExistsError:\n",
    "    pass\n",
    "for i in range(10):\n",
    "    i = str(i)\n",
    "    try:\n",
    "        path = '../dataset/test/'+date+'/results/preds_bin_'+i+'.pickle'\n",
    "        with open(path, mode='wb') as f:\n",
    "            pickle.dump('', f)\n",
    "    except FileExistsError:\n",
    "        pass"
   ]
  },
  {
   "cell_type": "markdown",
   "metadata": {},
   "source": [
    "# train dir"
   ]
  },
  {
   "cell_type": "code",
   "execution_count": 3,
   "metadata": {},
   "outputs": [],
   "source": [
    "try:\n",
    "    os.makedirs('../videos/'+date+'/split_videos')\n",
    "except FileExistsError:\n",
    "    pass\n"
   ]
  },
  {
   "cell_type": "markdown",
   "metadata": {},
   "source": [
    "# 削除"
   ]
  },
  {
   "cell_type": "code",
   "execution_count": 5,
   "metadata": {},
   "outputs": [],
   "source": [
    "try:\n",
    "    shutil.rmtree('../videos/'+date+'/split_videos/')\n",
    "except FileNotFoundError:\n",
    "    pass\n",
    "try:\n",
    "    shutil.rmtree('../dataset/test/'+date+'/images')\n",
    "except FileNotFoundError:\n",
    "    pass"
   ]
  },
  {
   "cell_type": "code",
   "execution_count": 14,
   "metadata": {},
   "outputs": [],
   "source": [
    "try:\n",
    "    shutil.rmtree('../videos/'+date)\n",
    "except :\n",
    "    pass\n",
    "try:\n",
    "    shutil.rmtree('../dataset/test/'+date)\n",
    "except :\n",
    "    pass\n",
    "try:\n",
    "    shutil.rmtree('../dataset/test/'+date+'/logs')\n",
    "except :\n",
    "    pass\n",
    "try:\n",
    "    shutil.rmtree('../dataset/test/'+date+'/labels/on')\n",
    "except :\n",
    "    pass\n",
    "try:\n",
    "    shutil.rmtree('../dataset/test/'+date+'/labels/off')\n",
    "except :\n",
    "    pass\n",
    "try:\n",
    "    shutil.rmtree('../dataset/test/'+date+'/results')\n",
    "except :\n",
    "    pass\n",
    "try:\n",
    "    shutil.rmtree('../makevideo/'+date+'/images')\n",
    "except :\n",
    "    pass\n",
    "try:\n",
    "    path = '../dataset/test/'+date+'/results/true.pickle'\n",
    "    with open(path, mode='wb') as f:\n",
    "        pickle.dump('', f)\n",
    "except :\n",
    "    pass\n",
    "for i in range(10):\n",
    "    i = str(i)\n",
    "    try:\n",
    "        path = '../dataset/test/'+date+'/results/preds_bin_'+i+'.pickle'\n",
    "        with open(path, mode='wb') as f:\n",
    "            pickle.dump('', f)\n",
    "    except :\n",
    "        pass"
   ]
  },
  {
   "cell_type": "code",
   "execution_count": null,
   "metadata": {},
   "outputs": [],
   "source": []
  },
  {
   "cell_type": "code",
   "execution_count": null,
   "metadata": {},
   "outputs": [],
   "source": []
  }
 ],
 "metadata": {
  "interpreter": {
   "hash": "abf113cd64bab04cd0f8dd20d07e32a7ac564fe12dab396e27d52bdbcc5d7dda"
  },
  "kernelspec": {
   "display_name": "Python 3.8.8 64-bit ('base': conda)",
   "language": "python",
   "name": "python3"
  },
  "language_info": {
   "codemirror_mode": {
    "name": "ipython",
    "version": 3
   },
   "file_extension": ".py",
   "mimetype": "text/x-python",
   "name": "python",
   "nbconvert_exporter": "python",
   "pygments_lexer": "ipython3",
   "version": "3.8.8"
  },
  "orig_nbformat": 4
 },
 "nbformat": 4,
 "nbformat_minor": 2
}
